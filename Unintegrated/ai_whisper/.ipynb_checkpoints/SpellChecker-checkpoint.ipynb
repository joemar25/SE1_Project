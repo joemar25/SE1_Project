{
 "cells": [
  {
   "cell_type": "markdown",
   "id": "3fb4e0c7",
   "metadata": {},
   "source": [
    "## Spell checker"
   ]
  },
  {
   "cell_type": "markdown",
   "id": "4e7f12e4",
   "metadata": {},
   "source": [
    "-is software feature that checks for misspelling in a text. Spell-checking features are often embedded in software or services, such as a processor email client, electronic dictionary, or search engine.\n",
    "\n",
    "-full video tutorial: https://youtu.be/LEA3TDV98zE"
   ]
  },
  {
   "cell_type": "code",
   "execution_count": 1,
   "id": "9a47e501",
   "metadata": {},
   "outputs": [
    {
     "name": "stdout",
     "output_type": "stream",
     "text": [
      "Defaulting to user installation because normal site-packages is not writeable\n",
      "Requirement already satisfied: textblob in c:\\users\\joema\\appdata\\roaming\\python\\python39\\site-packages (0.17.1)\n",
      "Requirement already satisfied: nltk>=3.1 in c:\\programdata\\anaconda3\\lib\\site-packages (from textblob) (3.7)\n",
      "Requirement already satisfied: tqdm in c:\\programdata\\anaconda3\\lib\\site-packages (from nltk>=3.1->textblob) (4.64.1)\n",
      "Requirement already satisfied: regex>=2021.8.3 in c:\\programdata\\anaconda3\\lib\\site-packages (from nltk>=3.1->textblob) (2022.7.9)\n",
      "Requirement already satisfied: joblib in c:\\programdata\\anaconda3\\lib\\site-packages (from nltk>=3.1->textblob) (1.1.0)\n",
      "Requirement already satisfied: click in c:\\programdata\\anaconda3\\lib\\site-packages (from nltk>=3.1->textblob) (8.0.4)\n",
      "Requirement already satisfied: colorama in c:\\programdata\\anaconda3\\lib\\site-packages (from click->nltk>=3.1->textblob) (0.4.5)\n"
     ]
    }
   ],
   "source": [
    "!pip install textblob"
   ]
  },
  {
   "cell_type": "markdown",
   "id": "634743aa",
   "metadata": {},
   "source": [
    "<i> we can now, use textblob and use it to correct grammar. (inacurately - for now) </i>"
   ]
  },
  {
   "cell_type": "code",
   "execution_count": 2,
   "id": "43dcbbfa",
   "metadata": {},
   "outputs": [],
   "source": [
    "from textblob import TextBlob"
   ]
  },
  {
   "cell_type": "code",
   "execution_count": 3,
   "id": "99130272",
   "metadata": {},
   "outputs": [],
   "source": [
    "tb = TextBlob('my anme is Joemar')"
   ]
  },
  {
   "cell_type": "markdown",
   "id": "73227840",
   "metadata": {},
   "source": [
    "<i> as you can see tb is initialized with a wrong word ('name'), let's now test on how it is corrected. </i>"
   ]
  },
  {
   "cell_type": "code",
   "execution_count": 4,
   "id": "80919bb5",
   "metadata": {},
   "outputs": [
    {
     "data": {
      "text/plain": [
       "TextBlob(\"my name is Joemar\")"
      ]
     },
     "execution_count": 4,
     "metadata": {},
     "output_type": "execute_result"
    }
   ],
   "source": [
    "tb.correct()"
   ]
  },
  {
   "cell_type": "markdown",
   "id": "c051211b",
   "metadata": {},
   "source": [
    "<i> let's check another example. since above return correct. </i>"
   ]
  },
  {
   "cell_type": "code",
   "execution_count": 13,
   "id": "d7836d88",
   "metadata": {},
   "outputs": [],
   "source": [
    "tb = TextBlob('i want to paly fotball')"
   ]
  },
  {
   "cell_type": "code",
   "execution_count": 14,
   "id": "51407aba",
   "metadata": {},
   "outputs": [
    {
     "data": {
      "text/plain": [
       "TextBlob(\"i want to pale football\")"
      ]
     },
     "execution_count": 14,
     "metadata": {},
     "output_type": "execute_result"
    }
   ],
   "source": [
    "tb.correct()"
   ]
  },
  {
   "cell_type": "markdown",
   "id": "124d4888",
   "metadata": {},
   "source": [
    "<i> see....'pale' instead of 'play'</i>\n",
    "<br>\n",
    "<b> that is why we we're now going to create spell checking AI algo. </b>\n",
    "by using...."
   ]
  },
  {
   "cell_type": "code",
   "execution_count": 7,
   "id": "487640ca",
   "metadata": {},
   "outputs": [
    {
     "name": "stdout",
     "output_type": "stream",
     "text": [
      "Defaulting to user installation because normal site-packages is not writeable\n",
      "Requirement already satisfied: spello in c:\\users\\joema\\appdata\\roaming\\python\\python39\\site-packages (1.3.0)\n",
      "Requirement already satisfied: nltk<4,>=3.4.5 in c:\\programdata\\anaconda3\\lib\\site-packages (from spello) (3.7)\n",
      "Requirement already satisfied: regex>=2021.8.3 in c:\\programdata\\anaconda3\\lib\\site-packages (from nltk<4,>=3.4.5->spello) (2022.7.9)\n",
      "Requirement already satisfied: tqdm in c:\\programdata\\anaconda3\\lib\\site-packages (from nltk<4,>=3.4.5->spello) (4.64.1)\n",
      "Requirement already satisfied: joblib in c:\\programdata\\anaconda3\\lib\\site-packages (from nltk<4,>=3.4.5->spello) (1.1.0)\n",
      "Requirement already satisfied: click in c:\\programdata\\anaconda3\\lib\\site-packages (from nltk<4,>=3.4.5->spello) (8.0.4)\n",
      "Requirement already satisfied: colorama in c:\\programdata\\anaconda3\\lib\\site-packages (from click->nltk<4,>=3.4.5->spello) (0.4.5)\n"
     ]
    }
   ],
   "source": [
    "!pip install spello"
   ]
  },
  {
   "cell_type": "code",
   "execution_count": 8,
   "id": "4fe31f47",
   "metadata": {},
   "outputs": [],
   "source": [
    "from spello.model import SpellCorrectionModel"
   ]
  },
  {
   "cell_type": "code",
   "execution_count": 9,
   "id": "b7b1dc86",
   "metadata": {},
   "outputs": [],
   "source": [
    "sp = SpellCorrectionModel(language='en')"
   ]
  },
  {
   "cell_type": "code",
   "execution_count": 10,
   "id": "f825e266",
   "metadata": {},
   "outputs": [],
   "source": [
    "text_source = 'text.txt' # put sample data"
   ]
  },
  {
   "cell_type": "code",
   "execution_count": 11,
   "id": "ea875776",
   "metadata": {},
   "outputs": [
    {
     "ename": "NameError",
     "evalue": "name 'eng' is not defined",
     "output_type": "error",
     "traceback": [
      "\u001b[1;31m---------------------------------------------------------------------------\u001b[0m",
      "\u001b[1;31mNameError\u001b[0m                                 Traceback (most recent call last)",
      "\u001b[1;32m~\\AppData\\Local\\Temp\\ipykernel_11344\\935304838.py\u001b[0m in \u001b[0;36m<module>\u001b[1;34m\u001b[0m\n\u001b[1;32m----> 1\u001b[1;33m \u001b[1;32mwith\u001b[0m \u001b[0mopen\u001b[0m\u001b[1;33m(\u001b[0m\u001b[0meng\u001b[0m\u001b[1;33m-\u001b[0m\u001b[0msimple_wikipedia_2021_300K\u001b[0m\u001b[1;33m.\u001b[0m\u001b[0mtar\u001b[0m\u001b[1;33m.\u001b[0m\u001b[0mgz\u001b[0m\u001b[1;33m,\u001b[0m \u001b[1;34m'r'\u001b[0m\u001b[1;33m)\u001b[0m \u001b[1;32mas\u001b[0m \u001b[0mfile\u001b[0m\u001b[1;33m:\u001b[0m\u001b[1;33m\u001b[0m\u001b[1;33m\u001b[0m\u001b[0m\n\u001b[0m\u001b[0;32m      2\u001b[0m     \u001b[0mdata\u001b[0m \u001b[1;33m=\u001b[0m \u001b[0mfile\u001b[0m\u001b[1;33m.\u001b[0m\u001b[0mreadlines\u001b[0m\u001b[1;33m(\u001b[0m\u001b[1;33m)\u001b[0m\u001b[1;33m\u001b[0m\u001b[1;33m\u001b[0m\u001b[0m\n",
      "\u001b[1;31mNameError\u001b[0m: name 'eng' is not defined"
     ]
    }
   ],
   "source": [
    "with open(eng-simple_wikipedia_2021_300K.tar.gz, 'r') as file:\n",
    "    data = file.readlines()"
   ]
  },
  {
   "cell_type": "code",
   "execution_count": null,
   "id": "65573ca2",
   "metadata": {},
   "outputs": [],
   "source": [
    "data = [i.strip() for i in data] # remove \\n (extra symbols)"
   ]
  },
  {
   "cell_type": "code",
   "execution_count": null,
   "id": "d165ec6e",
   "metadata": {},
   "outputs": [],
   "source": [
    "data"
   ]
  },
  {
   "cell_type": "markdown",
   "id": "2f94d7a7",
   "metadata": {},
   "source": [
    "<i> we can now, train the spell checking algo </i>"
   ]
  },
  {
   "cell_type": "code",
   "execution_count": null,
   "id": "a53bc2f7",
   "metadata": {},
   "outputs": [],
   "source": [
    "sp.train(data)"
   ]
  },
  {
   "cell_type": "code",
   "execution_count": null,
   "id": "6ea12ae9",
   "metadata": {},
   "outputs": [],
   "source": [
    "sp.spell_correct(data)"
   ]
  },
  {
   "cell_type": "markdown",
   "id": "ba1d5832",
   "metadata": {},
   "source": [
    "trying other example"
   ]
  },
  {
   "cell_type": "code",
   "execution_count": null,
   "id": "f7dd3455",
   "metadata": {},
   "outputs": [],
   "source": [
    "sp.spell_correct('i want to paly fotball')"
   ]
  },
  {
   "cell_type": "code",
   "execution_count": null,
   "id": "f6c3253d",
   "metadata": {},
   "outputs": [],
   "source": [
    "location_dir = 'C:/Users/joema/Desktop/SE_7_to_10/PD9/SE1_Project/Unintegrated/ai_whisper'"
   ]
  },
  {
   "cell_type": "code",
   "execution_count": null,
   "id": "805bded2",
   "metadata": {},
   "outputs": [],
   "source": [
    "sp.save(location_dir)"
   ]
  },
  {
   "cell_type": "code",
   "execution_count": null,
   "id": "9a3682eb",
   "metadata": {},
   "outputs": [],
   "source": [
    "import pickle"
   ]
  },
  {
   "cell_type": "code",
   "execution_count": null,
   "id": "3a9e6d47",
   "metadata": {},
   "outputs": [],
   "source": [
    "sp.load(location_dir+'\\\\model.pkl')"
   ]
  },
  {
   "cell_type": "code",
   "execution_count": null,
   "id": "b679bf08",
   "metadata": {},
   "outputs": [],
   "source": [
    "sp.spell_correct('i eat cherry')"
   ]
  },
  {
   "cell_type": "code",
   "execution_count": null,
   "id": "203c8ec7",
   "metadata": {},
   "outputs": [],
   "source": []
  }
 ],
 "metadata": {
  "kernelspec": {
   "display_name": "Python 3 (ipykernel)",
   "language": "python",
   "name": "python3"
  },
  "language_info": {
   "codemirror_mode": {
    "name": "ipython",
    "version": 3
   },
   "file_extension": ".py",
   "mimetype": "text/x-python",
   "name": "python",
   "nbconvert_exporter": "python",
   "pygments_lexer": "ipython3",
   "version": "3.9.13"
  }
 },
 "nbformat": 4,
 "nbformat_minor": 5
}
