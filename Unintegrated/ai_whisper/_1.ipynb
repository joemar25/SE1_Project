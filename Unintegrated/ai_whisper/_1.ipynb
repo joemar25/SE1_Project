{
 "cells": [
  {
   "cell_type": "code",
   "execution_count": 1,
   "id": "b52c721f",
   "metadata": {},
   "outputs": [],
   "source": [
    "import whisper"
   ]
  },
  {
   "cell_type": "code",
   "execution_count": 2,
   "id": "539d66d4",
   "metadata": {},
   "outputs": [],
   "source": [
    "model = whisper.load_model('medium')"
   ]
  },
  {
   "cell_type": "code",
   "execution_count": 3,
   "id": "033ec10d",
   "metadata": {},
   "outputs": [],
   "source": [
    "# audio_source = '.audio/little.mp3'\n",
    "audio_source = 'little.mp3'"
   ]
  },
  {
   "cell_type": "code",
   "execution_count": null,
   "id": "e716bc39",
   "metadata": {
    "scrolled": true
   },
   "outputs": [],
   "source": [
    "result = model.transcribe(audio_source, fp16=False,\n",
    "                          language='English', task='Translate')\n",
    "print(result[\"text\"])"
   ]
  }
 ],
 "metadata": {
  "kernelspec": {
   "display_name": "Python 3 (ipykernel)",
   "language": "python",
   "name": "python3"
  },
  "language_info": {
   "codemirror_mode": {
    "name": "ipython",
    "version": 3
   },
   "file_extension": ".py",
   "mimetype": "text/x-python",
   "name": "python",
   "nbconvert_exporter": "python",
   "pygments_lexer": "ipython3",
   "version": "3.9.13"
  }
 },
 "nbformat": 4,
 "nbformat_minor": 5
}
