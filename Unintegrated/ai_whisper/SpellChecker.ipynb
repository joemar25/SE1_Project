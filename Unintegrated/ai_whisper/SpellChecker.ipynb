{
 "cells": [
  {
   "cell_type": "markdown",
   "id": "c98ca8bd",
   "metadata": {},
   "source": [
    "## Spell checker"
   ]
  },
  {
   "cell_type": "markdown",
   "id": "a0fddc92",
   "metadata": {},
   "source": [
    "-is software feature that checks for misspelling in a text. Spell-checking features are often embedded in software or services, such as a processor email client, electronic dictionary, or search engine.\n",
    "\n",
    "-full video tutorial: https://youtu.be/LEA3TDV98zE"
   ]
  },
  {
   "cell_type": "code",
   "execution_count": 1,
   "id": "2c1aa8cc",
   "metadata": {},
   "outputs": [
    {
     "name": "stdout",
     "output_type": "stream",
     "text": [
      "Defaulting to user installation because normal site-packages is not writeable\n",
      "Requirement already satisfied: textblob in c:\\users\\joema\\appdata\\roaming\\python\\python39\\site-packages (0.17.1)\n",
      "Requirement already satisfied: nltk>=3.1 in c:\\programdata\\anaconda3\\lib\\site-packages (from textblob) (3.7)\n",
      "Requirement already satisfied: joblib in c:\\programdata\\anaconda3\\lib\\site-packages (from nltk>=3.1->textblob) (1.1.0)\n",
      "Requirement already satisfied: click in c:\\programdata\\anaconda3\\lib\\site-packages (from nltk>=3.1->textblob) (8.0.4)\n",
      "Requirement already satisfied: regex>=2021.8.3 in c:\\programdata\\anaconda3\\lib\\site-packages (from nltk>=3.1->textblob) (2022.7.9)\n",
      "Requirement already satisfied: tqdm in c:\\programdata\\anaconda3\\lib\\site-packages (from nltk>=3.1->textblob) (4.64.1)\n",
      "Requirement already satisfied: colorama in c:\\programdata\\anaconda3\\lib\\site-packages (from click->nltk>=3.1->textblob) (0.4.5)\n"
     ]
    }
   ],
   "source": [
    "!pip install textblob"
   ]
  },
  {
   "cell_type": "markdown",
   "id": "35b59c4b",
   "metadata": {},
   "source": [
    "<i> we can now, use textblob and use it to correct grammar. (inacurately - for now) </i>"
   ]
  },
  {
   "cell_type": "code",
   "execution_count": 2,
   "id": "d256f5d3",
   "metadata": {},
   "outputs": [],
   "source": [
    "from textblob import TextBlob"
   ]
  },
  {
   "cell_type": "code",
   "execution_count": 3,
   "id": "3bfbb476",
   "metadata": {},
   "outputs": [],
   "source": [
    "tb = TextBlob('my anme is Joemar')"
   ]
  },
  {
   "cell_type": "markdown",
   "id": "f519c6ef",
   "metadata": {},
   "source": [
    "<i> as you can see tb is initialized with a wrong word ('name'), let's now test on how it is corrected. </i>"
   ]
  },
  {
   "cell_type": "code",
   "execution_count": 4,
   "id": "f5bb7ccc",
   "metadata": {},
   "outputs": [
    {
     "data": {
      "text/plain": [
       "TextBlob(\"my name is Joemar\")"
      ]
     },
     "execution_count": 4,
     "metadata": {},
     "output_type": "execute_result"
    }
   ],
   "source": [
    "tb.correct()"
   ]
  },
  {
   "cell_type": "markdown",
   "id": "b681b586",
   "metadata": {},
   "source": [
    "<i> let's check another example. since above return correct. </i>"
   ]
  },
  {
   "cell_type": "code",
   "execution_count": 5,
   "id": "ac967c12",
   "metadata": {},
   "outputs": [],
   "source": [
    "tb = TextBlob('i want to paly fotball')"
   ]
  },
  {
   "cell_type": "code",
   "execution_count": 6,
   "id": "51c57a8f",
   "metadata": {},
   "outputs": [
    {
     "data": {
      "text/plain": [
       "TextBlob(\"i want to pale football\")"
      ]
     },
     "execution_count": 6,
     "metadata": {},
     "output_type": "execute_result"
    }
   ],
   "source": [
    "tb.correct()"
   ]
  },
  {
   "cell_type": "markdown",
   "id": "19b06afc",
   "metadata": {},
   "source": [
    "<i> see....'pale' instead of 'play'</i>\n",
    "<br>\n",
    "<b> that is why we we're now going to create spell checking AI algo. </b>\n",
    "by using...."
   ]
  },
  {
   "cell_type": "code",
   "execution_count": 7,
   "id": "d346e071",
   "metadata": {},
   "outputs": [
    {
     "name": "stdout",
     "output_type": "stream",
     "text": [
      "Defaulting to user installation because normal site-packages is not writeable\n",
      "Requirement already satisfied: spello in c:\\users\\joema\\appdata\\roaming\\python\\python39\\site-packages (1.3.0)\n",
      "Requirement already satisfied: nltk<4,>=3.4.5 in c:\\programdata\\anaconda3\\lib\\site-packages (from spello) (3.7)\n",
      "Requirement already satisfied: regex>=2021.8.3 in c:\\programdata\\anaconda3\\lib\\site-packages (from nltk<4,>=3.4.5->spello) (2022.7.9)\n",
      "Requirement already satisfied: tqdm in c:\\programdata\\anaconda3\\lib\\site-packages (from nltk<4,>=3.4.5->spello) (4.64.1)\n",
      "Requirement already satisfied: click in c:\\programdata\\anaconda3\\lib\\site-packages (from nltk<4,>=3.4.5->spello) (8.0.4)\n",
      "Requirement already satisfied: joblib in c:\\programdata\\anaconda3\\lib\\site-packages (from nltk<4,>=3.4.5->spello) (1.1.0)\n",
      "Requirement already satisfied: colorama in c:\\programdata\\anaconda3\\lib\\site-packages (from click->nltk<4,>=3.4.5->spello) (0.4.5)\n"
     ]
    }
   ],
   "source": [
    "!pip install spello"
   ]
  },
  {
   "cell_type": "code",
   "execution_count": 8,
   "id": "fe5d6f21",
   "metadata": {},
   "outputs": [],
   "source": [
    "from spello.model import SpellCorrectionModel"
   ]
  },
  {
   "cell_type": "code",
   "execution_count": 9,
   "id": "e12153c6",
   "metadata": {},
   "outputs": [],
   "source": [
    "sp = SpellCorrectionModel(language='en')"
   ]
  },
  {
   "cell_type": "code",
   "execution_count": 10,
   "id": "6c5b29c3",
   "metadata": {},
   "outputs": [],
   "source": [
    "text_source = 'text.txt' # put sample data"
   ]
  },
  {
   "cell_type": "code",
   "execution_count": 12,
   "id": "61998068",
   "metadata": {},
   "outputs": [],
   "source": [
    "with open(text_source, 'r') as file:\n",
    "    data = file.readlines()"
   ]
  },
  {
   "cell_type": "code",
   "execution_count": 13,
   "id": "eeab43c5",
   "metadata": {},
   "outputs": [],
   "source": [
    "data = [i.strip() for i in data] # remove \\n (extra symbols)"
   ]
  },
  {
   "cell_type": "code",
   "execution_count": 14,
   "id": "a4e59bb5",
   "metadata": {},
   "outputs": [
    {
     "data": {
      "text/plain": [
       "['Ladies and gentlemen, it is a pleasure for me to be here tonight and address such a great audience',\n",
       " 'The issue I would like to bring up threatens the prosperity and welfare of the whole nation',\n",
       " 'However, the majority of the population tends to ignore it and pretend that it is not a problem at all',\n",
       " 'Namely, I would like to talk about the risk of obesity']"
      ]
     },
     "execution_count": 14,
     "metadata": {},
     "output_type": "execute_result"
    }
   ],
   "source": [
    "data"
   ]
  },
  {
   "cell_type": "markdown",
   "id": "9a7ed3ec",
   "metadata": {},
   "source": [
    "<i> we can now, train the spell checking algo </i>"
   ]
  },
  {
   "cell_type": "code",
   "execution_count": 15,
   "id": "ee71fc8a",
   "metadata": {},
   "outputs": [
    {
     "name": "stdout",
     "output_type": "stream",
     "text": [
      "Spello training started..\n",
      "Context model training started ...\n",
      "Symspell training started ...\n",
      "Phoneme training started ...\n",
      "Spello training completed successfully ...\n"
     ]
    }
   ],
   "source": [
    "sp.train(data)"
   ]
  },
  {
   "cell_type": "code",
   "execution_count": 16,
   "id": "d9f369c3",
   "metadata": {},
   "outputs": [
    {
     "data": {
      "text/plain": [
       "{'original_text': ['Ladies and gentlemen, it is a pleasure for me to be here tonight and address such a great audience',\n",
       "  'The issue I would like to bring up threatens the prosperity and welfare of the whole nation',\n",
       "  'However, the majority of the population tends to ignore it and pretend that it is not a problem at all',\n",
       "  'Namely, I would like to talk about the risk of obesity'],\n",
       " 'spell_corrected_text': 'ladies and gentlemen  it is a pleasure for me to be here tonight and address such a great audience  the issue I would like to bring up threatens the prosperity and welfare of the whole nation  however  the majority of the population tends to ignore it and pretend that it is not a problem at all  namely  I would like to talk about the risk of obesity',\n",
       " 'correction_dict': {\"['Ladies\": 'ladies',\n",
       "  \"audience'\": 'audience',\n",
       "  \"'The\": 'the',\n",
       "  \"nation'\": 'nation',\n",
       "  \"'However\": 'however',\n",
       "  \"all'\": 'all',\n",
       "  \"'Namely\": 'namely',\n",
       "  \"obesity']\": 'obesity'}}"
      ]
     },
     "execution_count": 16,
     "metadata": {},
     "output_type": "execute_result"
    }
   ],
   "source": [
    "sp.spell_correct(data)"
   ]
  },
  {
   "cell_type": "markdown",
   "id": "dd07ce3d",
   "metadata": {},
   "source": [
    "trying other example"
   ]
  },
  {
   "cell_type": "code",
   "execution_count": 17,
   "id": "4b798d9d",
   "metadata": {},
   "outputs": [
    {
     "data": {
      "text/plain": [
       "{'original_text': 'i want to paly fotball',\n",
       " 'spell_corrected_text': 'i at to paly fotball',\n",
       " 'correction_dict': {'want': 'at'}}"
      ]
     },
     "execution_count": 17,
     "metadata": {},
     "output_type": "execute_result"
    }
   ],
   "source": [
    "sp.spell_correct('i want to paly fotball')"
   ]
  },
  {
   "cell_type": "code",
   "execution_count": null,
   "id": "d7fc85cc",
   "metadata": {},
   "outputs": [],
   "source": [
    "location_dir = 'C:/Users/joema/Desktop/SE_7_to_10/PD9/SE1_Project/Unintegrated/ai_whisper'"
   ]
  },
  {
   "cell_type": "code",
   "execution_count": null,
   "id": "ef95cee6",
   "metadata": {},
   "outputs": [],
   "source": [
    "sp.save(location_dir)"
   ]
  },
  {
   "cell_type": "code",
   "execution_count": null,
   "id": "470cf424",
   "metadata": {},
   "outputs": [],
   "source": [
    "import pickle"
   ]
  },
  {
   "cell_type": "code",
   "execution_count": null,
   "id": "3ca7ddca",
   "metadata": {},
   "outputs": [],
   "source": [
    "sp.load(location_dir+'\\\\model.pkl')"
   ]
  },
  {
   "cell_type": "code",
   "execution_count": null,
   "id": "bdc78f66",
   "metadata": {},
   "outputs": [],
   "source": [
    "sp.spell_correct('i eat cherry')"
   ]
  },
  {
   "cell_type": "code",
   "execution_count": null,
   "id": "8e12a1f8",
   "metadata": {},
   "outputs": [],
   "source": []
  }
 ],
 "metadata": {
  "kernelspec": {
   "display_name": "Python 3 (ipykernel)",
   "language": "python",
   "name": "python3"
  },
  "language_info": {
   "codemirror_mode": {
    "name": "ipython",
    "version": 3
   },
   "file_extension": ".py",
   "mimetype": "text/x-python",
   "name": "python",
   "nbconvert_exporter": "python",
   "pygments_lexer": "ipython3",
   "version": "3.9.13"
  }
 },
 "nbformat": 4,
 "nbformat_minor": 5
}
